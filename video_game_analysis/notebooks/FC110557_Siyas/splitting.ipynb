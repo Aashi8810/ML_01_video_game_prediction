{
 "cells": [
  {
   "cell_type": "code",
   "execution_count": 3,
   "id": "306a3f42",
   "metadata": {},
   "outputs": [],
   "source": [
    "import pandas as pd\n",
    "from sklearn.model_selection import train_test_split\n",
    "\n",
    "#Load your cleaned dataset\n",
    "df = pd.read_csv(\"vgsales_cleaned.csv\")\n",
    "\n",
    "#Split features and target\n",
    "X = df.drop(\"Global_Sales\", axis=1)\n",
    "y = df[\"Global_Sales\"]\n",
    "\n",
    "#Split into Train (70%) and Temp (30%)\n",
    "X_train, X_temp, y_train, y_temp = train_test_split(\n",
    "    X, y, test_size=0.30, random_state=42)\n",
    "\n",
    "#Split Temp (30%) into Validation (15%) and Test (15%)\n",
    "X_val, X_test, y_val, y_test = train_test_split(\n",
    "    X_temp, y_temp, test_size=0.50, random_state=42)"
   ]
  },
  {
   "cell_type": "code",
   "execution_count": 4,
   "id": "ead49991",
   "metadata": {},
   "outputs": [
    {
     "name": "stdout",
     "output_type": "stream",
     "text": [
      "All train/val/test datasets saved.\n"
     ]
    }
   ],
   "source": [
    "#Save the split datasets\n",
    "# Save features\n",
    "X_train.to_csv(\"dataSplits/X_train.csv\", index=False)\n",
    "X_val.to_csv(\"dataSplits/X_val.csv\", index=False)\n",
    "X_test.to_csv(\"dataSplits/X_test.csv\", index=False)\n",
    "\n",
    "# Save target values\n",
    "y_train.to_csv(\"dataSplits/y_train.csv\", index=False)\n",
    "y_val.to_csv(\"dataSplits/y_val.csv\", index=False)\n",
    "y_test.to_csv(\"dataSplits/y_test.csv\", index=False)\n",
    "\n",
    "print(\"All train/val/test datasets saved.\")\n"
   ]
  }
 ],
 "metadata": {
  "kernelspec": {
   "display_name": "Python 3",
   "language": "python",
   "name": "python3"
  },
  "language_info": {
   "codemirror_mode": {
    "name": "ipython",
    "version": 3
   },
   "file_extension": ".py",
   "mimetype": "text/x-python",
   "name": "python",
   "nbconvert_exporter": "python",
   "pygments_lexer": "ipython3",
   "version": "3.10.18"
  }
 },
 "nbformat": 4,
 "nbformat_minor": 5
}
